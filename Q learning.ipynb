{
 "cells": [
  {
   "cell_type": "code",
   "execution_count": 1,
   "id": "2f60fe70",
   "metadata": {},
   "outputs": [],
   "source": [
    "import numpy as np"
   ]
  },
  {
   "cell_type": "code",
   "execution_count": 2,
   "id": "208a1720",
   "metadata": {},
   "outputs": [],
   "source": [
    "environment_rows = 11\n",
    "environment_columns = 11"
   ]
  },
  {
   "cell_type": "code",
   "execution_count": 8,
   "id": "27ad7fcc",
   "metadata": {},
   "outputs": [],
   "source": [
    "q_values = np.zeros((environment_rows,environment_columns,4))"
   ]
  },
  {
   "cell_type": "code",
   "execution_count": 11,
   "id": "9a1bea27",
   "metadata": {},
   "outputs": [],
   "source": [
    "actions = ['up','right','down','left']"
   ]
  },
  {
   "cell_type": "code",
   "execution_count": 16,
   "id": "806c9c81",
   "metadata": {},
   "outputs": [],
   "source": [
    "rewards = np.full((environment_rows,environment_columns),-100)\n",
    "rewards[0,5] = 100"
   ]
  },
  {
   "cell_type": "code",
   "execution_count": 25,
   "id": "3f025952",
   "metadata": {},
   "outputs": [],
   "source": [
    "aisles = {}\n",
    "\n",
    "aisles[1] = [i for i in range(1,10)]\n",
    "aisles[2] = [1,7,9]\n",
    "aisles[3] = [i for i in range(1,8)]\n",
    "aisles[3].append(9)\n",
    "aisles[4] = [3,7]\n",
    "aisles[5] = [i for i in range(11)]\n",
    "aisles[6] = [5]\n",
    "aisles[7] = [i for i in range(1, 10)]\n",
    "aisles[8] = [3,7]\n",
    "aisles[9] = [i for i in range(11)]\n"
   ]
  },
  {
   "cell_type": "code",
   "execution_count": 31,
   "id": "bbd9520c",
   "metadata": {},
   "outputs": [
    {
     "data": {
      "text/plain": [
       "array([[-100, -100, -100, -100, -100,  100, -100, -100, -100, -100, -100],\n",
       "       [-100,   -1,   -1,   -1,   -1,   -1,   -1,   -1,   -1,   -1, -100],\n",
       "       [-100,   -1, -100, -100, -100, -100, -100,   -1, -100,   -1, -100],\n",
       "       [-100,   -1,   -1,   -1,   -1,   -1,   -1,   -1, -100,   -1, -100],\n",
       "       [-100, -100, -100,   -1, -100, -100, -100,   -1, -100, -100, -100],\n",
       "       [  -1,   -1,   -1,   -1,   -1,   -1,   -1,   -1,   -1,   -1,   -1],\n",
       "       [-100, -100, -100, -100, -100,   -1, -100, -100, -100, -100, -100],\n",
       "       [-100,   -1,   -1,   -1,   -1,   -1,   -1,   -1,   -1,   -1, -100],\n",
       "       [-100, -100, -100,   -1, -100, -100, -100,   -1, -100, -100, -100],\n",
       "       [  -1,   -1,   -1,   -1,   -1,   -1,   -1,   -1,   -1,   -1,   -1],\n",
       "       [-100, -100, -100, -100, -100, -100, -100, -100, -100, -100, -100]])"
      ]
     },
     "execution_count": 31,
     "metadata": {},
     "output_type": "execute_result"
    }
   ],
   "source": [
    "for row_index in range(1,10):\n",
    "    for column_index in aisles[row_index]:\n",
    "        rewards[row_index,column_index] = -1\n",
    "\n",
    "rewards"
   ]
  },
  {
   "cell_type": "code",
   "execution_count": 32,
   "id": "7cc0f8f6",
   "metadata": {},
   "outputs": [],
   "source": [
    "def is_terminal_state(current_row_index, current_column_index) :\n",
    "    if rewards[current_row_index, current_column_index ] == -1:\n",
    "        return False\n",
    "    else :\n",
    "        return True"
   ]
  },
  {
   "cell_type": "code",
   "execution_count": 35,
   "id": "96eebd10",
   "metadata": {},
   "outputs": [],
   "source": [
    "def get_starting_location():\n",
    "    current_row_index = np.random.randint(environment_rows)\n",
    "    current_column_index = np.random.randint(environment_columns)\n",
    "    while is_terminal_state(current_row_index,current_column_index):\n",
    "        current_row_index = np.random.randint(environment_rows)\n",
    "        current_column_index = np.random.randint(environment_columns)\n",
    "    return current_row_index,current_column_index"
   ]
  },
  {
   "cell_type": "code",
   "execution_count": 38,
   "id": "97ce00b9",
   "metadata": {},
   "outputs": [],
   "source": [
    "def get_next_action(current_row_index, current_column_index, epsilon):\n",
    "    if np.random.random() < epsilon:\n",
    "        return np.argmax(q_values[current_row_index, current_column_index])\n",
    "    else:\n",
    "        return np.random.randint(4)\n"
   ]
  },
  {
   "cell_type": "code",
   "execution_count": 39,
   "id": "23205a92",
   "metadata": {},
   "outputs": [],
   "source": [
    "def get_next_location(current_row_index, current_column_index, action_index):\n",
    "  new_row_index = current_row_index\n",
    "  new_column_index = current_column_index\n",
    "  if actions[action_index] == 'up' and current_row_index > 0:\n",
    "    new_row_index -= 1\n",
    "  elif actions[action_index] == 'right' and current_column_index < environment_columns - 1:\n",
    "    new_column_index += 1\n",
    "  elif actions[action_index] == 'down' and current_row_index < environment_rows - 1:\n",
    "    new_row_index += 1\n",
    "  elif actions[action_index] == 'left' and current_column_index > 0:\n",
    "    new_column_index -= 1\n",
    "  return new_row_index, new_column_index"
   ]
  },
  {
   "cell_type": "code",
   "execution_count": 40,
   "id": "d91cf81a",
   "metadata": {},
   "outputs": [],
   "source": [
    "def get_shortest_path(start_row_index, start_column_index):\n",
    "  #return immediately if this is an invalid starting location\n",
    "  if is_terminal_state(start_row_index, start_column_index):\n",
    "    return []\n",
    "  else: #if this is a 'legal' starting location\n",
    "    current_row_index, current_column_index = start_row_index, start_column_index\n",
    "    shortest_path = []\n",
    "    shortest_path.append([current_row_index, current_column_index])\n",
    "    #continue moving along the path until we reach the goal (i.e., the item packaging location)\n",
    "    while not is_terminal_state(current_row_index, current_column_index):\n",
    "      #get the best action to take\n",
    "      action_index = get_next_action(current_row_index, current_column_index, 1.)\n",
    "      #move to the next location on the path, and add the new location to the list\n",
    "      current_row_index, current_column_index = get_next_location(current_row_index, current_column_index, action_index)\n",
    "      shortest_path.append([current_row_index, current_column_index])\n",
    "    return shortest_path"
   ]
  },
  {
   "cell_type": "code",
   "execution_count": 41,
   "id": "fa39113c",
   "metadata": {},
   "outputs": [
    {
     "name": "stdout",
     "output_type": "stream",
     "text": [
      "Training complete!\n"
     ]
    }
   ],
   "source": [
    "epsilon = 0.9 #the percentage of time when we should take the best action (instead of a random action)\n",
    "discount_factor = 0.9 #discount factor for future rewards\n",
    "learning_rate = 0.9 #the rate at which the AI agent should learn\n",
    "\n",
    "#run through 1000 training episodes\n",
    "for episode in range(1000):\n",
    "  #get the starting location for this episode\n",
    "  row_index, column_index = get_starting_location()\n",
    "\n",
    "  #continue taking actions (i.e., moving) until we reach a terminal state\n",
    "  #(i.e., until we reach the item packaging area or crash into an item storage location)\n",
    "  while not is_terminal_state(row_index, column_index):\n",
    "    #choose which action to take (i.e., where to move next)\n",
    "    action_index = get_next_action(row_index, column_index, epsilon)\n",
    "\n",
    "    #perform the chosen action, and transition to the next state (i.e., move to the next location)\n",
    "    old_row_index, old_column_index = row_index, column_index #store the old row and column indexes\n",
    "    row_index, column_index = get_next_location(row_index, column_index, action_index)\n",
    "    \n",
    "    #receive the reward for moving to the new state, and calculate the temporal difference\n",
    "    reward = rewards[row_index, column_index]\n",
    "    old_q_value = q_values[old_row_index, old_column_index, action_index]\n",
    "    temporal_difference = reward + (discount_factor * np.max(q_values[row_index, column_index])) - old_q_value\n",
    "\n",
    "    #update the Q-value for the previous state and action pair\n",
    "    new_q_value = old_q_value + (learning_rate * temporal_difference)\n",
    "    q_values[old_row_index, old_column_index, action_index] = new_q_value\n",
    "print('Training complete!')"
   ]
  },
  {
   "cell_type": "code",
   "execution_count": 42,
   "id": "4c67651e",
   "metadata": {},
   "outputs": [
    {
     "name": "stdout",
     "output_type": "stream",
     "text": [
      "[[3, 9], [2, 9], [1, 9], [1, 8], [1, 7], [1, 6], [1, 5], [0, 5]]\n",
      "[[5, 0], [5, 1], [5, 2], [5, 3], [5, 4], [5, 5], [5, 6], [5, 7], [4, 7], [3, 7], [2, 7], [1, 7], [1, 6], [1, 5], [0, 5]]\n",
      "[[9, 5], [9, 6], [9, 7], [8, 7], [7, 7], [7, 6], [7, 5], [6, 5], [5, 5], [5, 6], [5, 7], [4, 7], [3, 7], [2, 7], [1, 7], [1, 6], [1, 5], [0, 5]]\n"
     ]
    }
   ],
   "source": [
    "#display a few shortest paths\n",
    "print(get_shortest_path(3, 9)) #starting at row 3, column 9\n",
    "print(get_shortest_path(5, 0)) #starting at row 5, column 0\n",
    "print(get_shortest_path(9, 5)) #starting at row 9, column 5"
   ]
  },
  {
   "cell_type": "code",
   "execution_count": 43,
   "id": "2381b931",
   "metadata": {},
   "outputs": [
    {
     "name": "stdout",
     "output_type": "stream",
     "text": [
      "[[0, 5], [1, 5], [1, 6], [1, 7], [2, 7], [3, 7], [4, 7], [5, 7], [5, 6], [5, 5], [5, 4], [5, 3], [5, 2]]\n"
     ]
    }
   ],
   "source": [
    "path = get_shortest_path(5, 2) #go to row 5, column 2\n",
    "path.reverse()\n",
    "print(path)"
   ]
  },
  {
   "cell_type": "code",
   "execution_count": null,
   "id": "89fe8d86",
   "metadata": {},
   "outputs": [],
   "source": []
  }
 ],
 "metadata": {
  "kernelspec": {
   "display_name": "Python 3",
   "language": "python",
   "name": "python3"
  },
  "language_info": {
   "codemirror_mode": {
    "name": "ipython",
    "version": 3
   },
   "file_extension": ".py",
   "mimetype": "text/x-python",
   "name": "python",
   "nbconvert_exporter": "python",
   "pygments_lexer": "ipython3",
   "version": "3.8.8"
  }
 },
 "nbformat": 4,
 "nbformat_minor": 5
}
