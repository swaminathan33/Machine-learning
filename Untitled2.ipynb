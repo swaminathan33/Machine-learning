{
 "cells": [
  {
   "cell_type": "code",
   "execution_count": 1,
   "id": "5ee12b1a",
   "metadata": {},
   "outputs": [
    {
     "data": {
      "text/plain": [
       "1.0"
      ]
     },
     "execution_count": 1,
     "metadata": {},
     "output_type": "execute_result"
    }
   ],
   "source": [
    "from sklearn.tree import DecisionTreeClassifier\n",
    "from matplotlib import pyplot as plt\n",
    "from sklearn.model_selection import train_test_split\n",
    "from sklearn import tree\n",
    "from dtreeviz.trees import dtreeviz \n",
    "import pandas as pd\n",
    "import numpy as np\n",
    "from sklearn.metrics import accuracy_score\n",
    "\n",
    "dt = pd.read_csv('dt.csv')\n",
    "\n",
    "d = {'UK':0, 'USA':1, 'N':2}\n",
    "dt['Nationality'] = dt['Nationality'].map(d)\n",
    "\n",
    "d  = {'YES':1, 'NO':0,}\n",
    "dt['Go'] = dt['Go'].map(d)\n",
    "\n",
    "X = dt.drop(['Go'],axis=1)\n",
    "y = dt['Go']\n",
    "\n",
    "X_train, X_test, y_train, y_test = train_test_split(X,y,test_size=0.25)\n",
    "\n",
    "dtree = DecisionTreeClassifier()\n",
    "dtree.fit(X_train, y_train)\n",
    "\n",
    "y_pred = dtree.predict(X_test)\n",
    "\n",
    "dtree.score(X_test,y_test)\n",
    "\n",
    "accuracy_score(y_test,y_pred)\n"
   ]
  },
  {
   "cell_type": "code",
   "execution_count": 12,
   "id": "15b7d530",
   "metadata": {},
   "outputs": [
    {
     "data": {
      "text/plain": [
       "array([0], dtype=int64)"
      ]
     },
     "execution_count": 12,
     "metadata": {},
     "output_type": "execute_result"
    }
   ],
   "source": [
    "dtree.predict([[1,1,1,1]])"
   ]
  },
  {
   "cell_type": "code",
   "execution_count": 2,
   "id": "848a1a53",
   "metadata": {},
   "outputs": [],
   "source": [
    "import pickle"
   ]
  },
  {
   "cell_type": "code",
   "execution_count": 4,
   "id": "7639874d",
   "metadata": {},
   "outputs": [],
   "source": [
    "k = pickle.dump(dtree,open('comedyshow','wb'))"
   ]
  },
  {
   "cell_type": "code",
   "execution_count": 5,
   "id": "0d2a32d0",
   "metadata": {},
   "outputs": [],
   "source": [
    "v = pickle.load(open('comedyshow','rb'))"
   ]
  },
  {
   "cell_type": "code",
   "execution_count": 14,
   "id": "a582f37a",
   "metadata": {},
   "outputs": [
    {
     "data": {
      "text/plain": [
       "array([1], dtype=int64)"
      ]
     },
     "execution_count": 14,
     "metadata": {},
     "output_type": "execute_result"
    }
   ],
   "source": [
    "v.predict([[1,1,9,1]])"
   ]
  },
  {
   "cell_type": "code",
   "execution_count": null,
   "id": "c2bf3d25",
   "metadata": {},
   "outputs": [],
   "source": []
  }
 ],
 "metadata": {
  "kernelspec": {
   "display_name": "Python 3",
   "language": "python",
   "name": "python3"
  },
  "language_info": {
   "codemirror_mode": {
    "name": "ipython",
    "version": 3
   },
   "file_extension": ".py",
   "mimetype": "text/x-python",
   "name": "python",
   "nbconvert_exporter": "python",
   "pygments_lexer": "ipython3",
   "version": "3.8.8"
  }
 },
 "nbformat": 4,
 "nbformat_minor": 5
}
