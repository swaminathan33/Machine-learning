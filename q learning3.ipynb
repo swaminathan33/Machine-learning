{
 "cells": [
  {
   "cell_type": "code",
   "execution_count": 1,
   "id": "77af661a",
   "metadata": {},
   "outputs": [],
   "source": [
    "import numpy as np"
   ]
  },
  {
   "cell_type": "code",
   "execution_count": 2,
   "id": "ca695053",
   "metadata": {},
   "outputs": [],
   "source": [
    "M = np.matrix([\n",
    "       [-1, 0, -1, 0, -1, -1,-1,-1,-1],\n",
    "       [0, -1, 0, -1, -1, 0,-1,-1,-1],\n",
    "       [-1, 0, -1, -1, 0, -1,-1,-1,-1],\n",
    "       [0, -1, -1, -1, -1, -1,0,-1,-1],\n",
    "       [-1, -1, 0, -1, -1, 0,-1,-1,100],\n",
    "       [-1, 0, -1, -1, 0, -1,-1,0,-1],\n",
    "       [-1, -1, -1, 0, -1, -1,-1,0,-1],\n",
    "       [-1, -1, -1, -1, -1, 0,0,-1,100],\n",
    "       [-1, -1, -1, -1, -0, -1,-1,0,-1]\n",
    "])\n",
    "\n",
    "gamma = 0.80"
   ]
  },
  {
   "cell_type": "code",
   "execution_count": 3,
   "id": "66a7e425",
   "metadata": {},
   "outputs": [],
   "source": [
    "matrix_row = 9\n",
    "matrix_column = 9"
   ]
  },
  {
   "cell_type": "code",
   "execution_count": 4,
   "id": "9a845436",
   "metadata": {},
   "outputs": [],
   "source": [
    "Q = np.matrix(np.zeros([matrix_row,matrix_column]))"
   ]
  },
  {
   "cell_type": "code",
   "execution_count": 5,
   "id": "ae94fc99",
   "metadata": {},
   "outputs": [],
   "source": [
    "initial_state = 2"
   ]
  },
  {
   "cell_type": "code",
   "execution_count": 6,
   "id": "a73f7c55",
   "metadata": {},
   "outputs": [
    {
     "data": {
      "text/plain": [
       "array([1, 4], dtype=int64)"
      ]
     },
     "execution_count": 6,
     "metadata": {},
     "output_type": "execute_result"
    }
   ],
   "source": [
    "def available_actions(state):\n",
    "    current_state_row = M[state,]\n",
    "    available_action = np.where(current_state_row >= 0)[1]\n",
    "    return available_action\n",
    "\n",
    "available_action = available_actions(initial_state)\n",
    "available_action"
   ]
  },
  {
   "cell_type": "code",
   "execution_count": 7,
   "id": "8032b217",
   "metadata": {},
   "outputs": [],
   "source": [
    "def sample_next_action(available_action_range):\n",
    "    next_action = int(np.random.choice(available_action_range,1))\n",
    "    return next_action\n",
    "\n",
    "action = sample_next_action(available_action)"
   ]
  },
  {
   "cell_type": "code",
   "execution_count": 8,
   "id": "d669291f",
   "metadata": {},
   "outputs": [
    {
     "data": {
      "text/plain": [
       "0"
      ]
     },
     "execution_count": 8,
     "metadata": {},
     "output_type": "execute_result"
    }
   ],
   "source": [
    "def update(current_state,action,gamma):\n",
    "    max_index = np.where(Q[action,] == np.max(Q[action,]))[1]\n",
    "    if max_index.shape[0] > 1:\n",
    "        max_index = int(np.random.choice(max_index,size=1))\n",
    "    else:\n",
    "        max_index = int(max_index)\n",
    "    max_value = Q[action,max_index]\n",
    "    Q[current_state,action] =  M[current_state,action] + gamma * max_value\n",
    "    if ( np.max(Q) > 0 ):\n",
    "        return (np.sum(Q / np.max(Q) * 100))\n",
    "    else:\n",
    "        return 0\n",
    "    \n",
    "update(initial_state,action,gamma)"
   ]
  },
  {
   "cell_type": "code",
   "execution_count": 9,
   "id": "2bda44aa",
   "metadata": {},
   "outputs": [
    {
     "name": "stdout",
     "output_type": "stream",
     "text": [
      "Training  Data: \n",
      "[[0.       0.00512  0.       0.00512  0.       0.       0.       0.\n",
      "  0.      ]\n",
      " [0.004096 0.       0.0064   0.       0.       0.0064   0.       0.\n",
      "  0.      ]\n",
      " [0.       0.00512  0.       0.       0.008    0.       0.       0.\n",
      "  0.      ]\n",
      " [0.004096 0.       0.       0.       0.       0.       0.0064   0.\n",
      "  0.      ]\n",
      " [0.       0.       0.0064   0.       0.       0.0064   0.       0.\n",
      "  0.01    ]\n",
      " [0.       0.00512  0.       0.       0.008    0.       0.       0.008\n",
      "  0.      ]\n",
      " [0.       0.       0.       0.00512  0.       0.       0.       0.008\n",
      "  0.      ]\n",
      " [0.       0.       0.       0.       0.       0.0064   0.0064   0.\n",
      "  0.01    ]\n",
      " [0.       0.       0.       0.       0.008    0.       0.       0.008\n",
      "  0.      ]]\n"
     ]
    }
   ],
   "source": [
    "scores = []\n",
    "\n",
    "for i in range(1000):\n",
    "    current_state = np.random.randint(0, int(Q.shape[0]))\n",
    "    available_action = available_actions(current_state)\n",
    "    action = sample_next_action(available_action)\n",
    "    score = update(current_state,action,gamma)\n",
    "    scores.append(score)\n",
    "\n",
    "print('Training  Data: ')\n",
    "print(Q / np.max(Q * 100))"
   ]
  },
  {
   "cell_type": "code",
   "execution_count": 13,
   "id": "2315d574",
   "metadata": {},
   "outputs": [
    {
     "name": "stdout",
     "output_type": "stream",
     "text": [
      "Most efficient path :\n",
      "[0, 3, 6, 7, 8]\n"
     ]
    }
   ],
   "source": [
    "current_state = 0\n",
    "steps = [current_state]\n",
    "\n",
    "while current_state != 8:\n",
    "    next_index_step = np.where(Q[current_state,] == np.max(Q[current_state,]))[1]\n",
    "    if next_index_step.shape[0] > 1:\n",
    "        next_index_step = int(np.random.choice(next_index_step,1))\n",
    "    else:\n",
    "        next_index_step = int(next_index_step)\n",
    "    steps.append(next_index_step)\n",
    "    current_state = next_index_step\n",
    "    \n",
    "print('Most efficient path :')\n",
    "print(steps)"
   ]
  },
  {
   "cell_type": "code",
   "execution_count": null,
   "id": "3ca0ff24",
   "metadata": {},
   "outputs": [],
   "source": []
  }
 ],
 "metadata": {
  "kernelspec": {
   "display_name": "Python 3",
   "language": "python",
   "name": "python3"
  },
  "language_info": {
   "codemirror_mode": {
    "name": "ipython",
    "version": 3
   },
   "file_extension": ".py",
   "mimetype": "text/x-python",
   "name": "python",
   "nbconvert_exporter": "python",
   "pygments_lexer": "ipython3",
   "version": "3.8.8"
  }
 },
 "nbformat": 4,
 "nbformat_minor": 5
}
