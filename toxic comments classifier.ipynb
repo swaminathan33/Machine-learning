{
 "cells": [
  {
   "cell_type": "code",
   "execution_count": 3,
   "id": "bc97330d",
   "metadata": {},
   "outputs": [],
   "source": [
    "import os\n",
    "import pandas as pd\n",
    "import tensorflow as tf\n",
    "import numpy as np"
   ]
  },
  {
   "cell_type": "code",
   "execution_count": 4,
   "id": "90aa9ec1",
   "metadata": {},
   "outputs": [],
   "source": [
    "df = pd.read_csv('toxic comments projects csv file/train.csv')"
   ]
  },
  {
   "cell_type": "code",
   "execution_count": 14,
   "id": "1caf8a95",
   "metadata": {},
   "outputs": [],
   "source": [
    "k  = df[:1]['comment_text']"
   ]
  },
  {
   "cell_type": "code",
   "execution_count": 16,
   "id": "64ea14b9",
   "metadata": {},
   "outputs": [
    {
     "name": "stdout",
     "output_type": "stream",
     "text": [
      "0    Explanation\\nWhy the edits made under my usern...\n",
      "Name: comment_text, dtype: object\n"
     ]
    }
   ],
   "source": [
    "k."
   ]
  },
  {
   "cell_type": "code",
   "execution_count": null,
   "id": "f5e65b22",
   "metadata": {},
   "outputs": [],
   "source": []
  }
 ],
 "metadata": {
  "kernelspec": {
   "display_name": "Python 3",
   "language": "python",
   "name": "python3"
  },
  "language_info": {
   "codemirror_mode": {
    "name": "ipython",
    "version": 3
   },
   "file_extension": ".py",
   "mimetype": "text/x-python",
   "name": "python",
   "nbconvert_exporter": "python",
   "pygments_lexer": "ipython3",
   "version": "3.8.8"
  }
 },
 "nbformat": 4,
 "nbformat_minor": 5
}
