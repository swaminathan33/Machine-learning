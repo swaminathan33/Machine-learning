{
 "cells": [
  {
   "cell_type": "markdown",
   "id": "a1b876b8",
   "metadata": {},
   "source": [
    "# 273"
   ]
  },
  {
   "cell_type": "code",
   "execution_count": 1,
   "id": "aeabc91c",
   "metadata": {},
   "outputs": [],
   "source": [
    "import  tweepy\n",
    "#https://datascienceparichay.com/article/python-get-data-from-twitter-api-v2/"
   ]
  },
  {
   "cell_type": "code",
   "execution_count": 43,
   "id": "2f1d8be5",
   "metadata": {},
   "outputs": [],
   "source": [
    "b_token = 'AAAAAAAAAAAAAAAAAAAAALd3YwEAAAAAMSyD3OhQF%2BItnUecqmIu49G9kEE%3DWPCOzLRzmFaigsxMq5z5e8CdlV4ow0Abp8n3BqIMJ9OztbhYyv'\n",
    "client = tweepy.Client(bearer_token=b_token)\n",
    "\n",
    "tweets = client.search_recent_tweets(query='elon musk',max_results = 20)"
   ]
  },
  {
   "cell_type": "code",
   "execution_count": 46,
   "id": "43aad0f9",
   "metadata": {},
   "outputs": [
    {
     "name": "stdout",
     "output_type": "stream",
     "text": [
      "1 .  RT @caslernoel: Joe Rogan is an asshole and much like Elon Musk &amp; Trump inspires hordes of mediocre worshipful trolls. I’m so sick of this…\n",
      "2 .  RT @caslernoel: Joe Rogan is an asshole and much like Elon Musk &amp; Trump inspires hordes of mediocre worshipful trolls. I’m so sick of this…\n",
      "3 .  @bizi85525199 #BiziDoGe #luaswap #tomochain #coinmarketcap #Elon musk\n",
      "4 .  @elonmusk Mr. Elon Musk, I really need your help, please help me through Doge coin.  Please help me financially.  doge deposit address(BEP20): 0xb4185ec96a36d83956ec778321c0bd3e3a386b9c\n",
      "Mr. Elon Musk, I'm really in financial trouble, please help\n",
      "Please😢😢😢😢😢😢please\n",
      "5 .  RT @idrissaberkane: Même Elon Musk s’indigne du braquage immonde de la cagnotte des camionneurs par @gofundme\n",
      "6 .  As much as possible, avoid hiring MBAs. MBA programs don’t teach people how to create companies.\n",
      "\n",
      " - Elon Musk -\n",
      "7 .  @elonmusk @Tesmanian_com Mr. Elon Musk, I really need your help, please help me through Doge coin.  Please help me financially.  doge deposit address(BEP20): 0xb4185ec96a36d83956ec778321c0bd3e3a386b9c\n",
      "Mr. Elon Musk, I'm really in financial trouble, please help\n",
      "Please😢😢😢😢😢😢please\n",
      "8 .  RT @mail_american: Do you agree with Elon Musk that GoFundMe is literally stealing people's money?\n",
      "9 .  RT @MarkSlapinski: Elon Musk slams GoFundMe over protesting truckers\n",
      "\n",
      "https://t.co/P70nGNK0Bj\n",
      "10 .  RT @TheRealKeean: Tesla and SpaceX CEO @elonmusk, who has supported the Freedom Convoy in Canada, slammed the crowdfunding website GoFundMe…\n",
      "11 .  RT @idrissaberkane: Même Elon Musk s’indigne du braquage immonde de la cagnotte des camionneurs par @gofundme\n",
      "12 .  RT @TheRealKeean: Elon Musk blowing up my Twitter was not how I expected this night to go 🤣\n",
      "Leftists are already seething.\n",
      "13 .  RT @DailyMail: Elon Musk slams GoFundMe for canceling Freedom Truckers while allowing BLM donations https://t.co/xA66FzWDjY https://t.co/Zv…\n",
      "14 .  RT @TPostMillennial: Elon Musk slams GoFundMe for “double standard” after platform seizes $10 million from Freedom Convoy\n",
      "\n",
      "https://t.co/eJy…\n",
      "15 .  Teen who runs Twitter account tracking Elon Musk’s private jet rejects offer of free Tesla to delete it https://t.co/eLAXIhRb8N\n",
      "16 .  RT @BarbieRed2024: Elon musk needs to head the charge in a class action lawsuit against GoFundMe! This is ridiculous, they are literally st…\n",
      "17 .  RT @BarbieRed2024: Elon musk needs to head the charge in a class action lawsuit against GoFundMe! This is ridiculous, they are literally st…\n",
      "18 .  @madeleinelacsko Qual o endereço do Elon Musk por favor? 😏\n",
      "19 .  RT @caslernoel: Joe Rogan is an asshole and much like Elon Musk &amp; Trump inspires hordes of mediocre worshipful trolls. I’m so sick of this…\n",
      "20 .  RT @mmofcan: The biggest danger to the world may be Elon Musk. And he's an asshole. \n",
      "https://t.co/kZdQZUn9ph\n"
     ]
    }
   ],
   "source": [
    "import tweepy\n",
    "b_token = 'AAAAAAAAAAAAAAAAAAAAALd3YwEAAAAAMSyD3OhQF%2BItnUecqmIu49G9kEE%3DWPCOzLRzmFaigsxMq5z5e8CdlV4ow0Abp8n3BqIMJ9OztbhYyv'\n",
    "client = tweepy.Client(bearer_token=b_token)\n",
    "\n",
    "tweets = client.search_recent_tweets(query='elon musk',max_results = 20)\n",
    "a = 0\n",
    "for i in tweets.data:\n",
    "    a+=1\n",
    "    print(a,'. ',i.text)"
   ]
  },
  {
   "cell_type": "code",
   "execution_count": null,
   "id": "1659ccdb",
   "metadata": {},
   "outputs": [],
   "source": []
  },
  {
   "cell_type": "code",
   "execution_count": null,
   "id": "034283f1",
   "metadata": {},
   "outputs": [],
   "source": []
  }
 ],
 "metadata": {
  "kernelspec": {
   "display_name": "Python 3",
   "language": "python",
   "name": "python3"
  },
  "language_info": {
   "codemirror_mode": {
    "name": "ipython",
    "version": 3
   },
   "file_extension": ".py",
   "mimetype": "text/x-python",
   "name": "python",
   "nbconvert_exporter": "python",
   "pygments_lexer": "ipython3",
   "version": "3.8.8"
  }
 },
 "nbformat": 4,
 "nbformat_minor": 5
}
